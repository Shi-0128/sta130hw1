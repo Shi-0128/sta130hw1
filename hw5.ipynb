{
 "cells": [
  {
   "cell_type": "markdown",
   "id": "c256c884",
   "metadata": {},
   "source": [
    "1.A key factor that makes the difference between ideas that can, and cannot be examined and tested statistically is is the availability of data, an idea becomes hypothesis only if there is data that can evaluate it. A key criteria defining what good null hypothesis is it must represent the status quo or baseline assumption that can be tested through statistical methods. It should be a clear, testable statement about a population parameter, often involving an equality for example :'the mean salary is $113000' The null hypothesis H0 assumes no effect or no difference the mean salary is $113000. It is the hypothesis that we aim to test. The alternative hypothesis H1 or Ha represents everything else that contradicts the null 'the mean salary is not $113000'. It reflects the potential for change or deviation from the null."
   ]
  },
  {
   "cell_type": "markdown",
   "id": "5c04420e",
   "metadata": {},
   "source": [
    "2.𝑥𝑖: Individual values from the sample. 𝑥̄ is the average of the sample values, which estimates the population mean. 𝜇: The actual (unknown) population mean want to get. 𝜇₀: The value of the population mean assumed under the null hypothesis."
   ]
  },
  {
   "cell_type": "markdown",
   "id": "b41844ad",
   "metadata": {},
   "source": [
    "3.When we calculate a p-value, we assume the null hypothesis is true because we want to see how likely our observed data would be in that situation. The sampling distribution of the test statistic shows what we expect to see if the null hypothesis is correct. The p-value then tells us how extreme or unusual our observed result is compared to this expected outcome. If our data is far from what we'd expect under the null hypothesis, it suggests the null hypothesis might not be true."
   ]
  },
  {
   "cell_type": "markdown",
   "id": "6e0a9bf7",
   "metadata": {},
   "source": [
    "4.A smaller p-value makes the null hypothesis seem less believable because it shows that the observed data is very unlikely if the null hypothesis were true. The test statistic, which measures how far our data is from the expected outcome under the null hypothesis, is compared to the sampling distribution. If the test statistic is extreme—meaning it's far from the average of what we'd expect—then the p-value will be small. This suggests the null hypothesis doesn't fit well with the data, and we might reject it in favor of the alternative hypothesis."
   ]
  },
  {
   "cell_type": "markdown",
   "id": "03a6633a",
   "metadata": {},
   "source": [
    "5.To simulate a p-value, we assume the null hypothesis H0 is true, meaning no preference for left or right head tilts. We model this by flipping a coin for 124 couples (50/50 chance for left or right) and repeat this many times. The p-value is the proportion of simulations where 80 or more couples tilt right, just like in the study. If the p-value is large, the result is likely due to chance. If it's small  for example p < 0.05it suggests there's a real tendency to tilt right, giving us evidence against H0.\n"
   ]
  },
  {
   "cell_type": "markdown",
   "id": "d17bce08",
   "metadata": {},
   "source": [
    "chatlog:\n",
    "summary:Hypothesis Testing:https://chatgpt.com/share/670f36f8-c954-8003-835d-cb150c1ebf75\n",
    "\n",
    "A good null hypothesis should be clear, testable, and falsifiable, stating no effect or no difference.\n",
    "The null hypothesis (𝐻0) represents the assumption of no effect, while the alternative hypothesis (𝐻1) suggests an effect or difference.\n",
    "Sample Statistics vs. Population Parameters:\n",
    "\n",
    "Sample statistics are calculated from sample data (e.g., sample mean), while population parameters describe the entire population (e.g., population mean).\n",
    "Hypothesis testing makes inferences about population parameters using sample statistics.\n",
    "P-value:\n",
    "\n",
    "We calculate the p-value assuming the null hypothesis is true to assess the likelihood of observing data as extreme as the sample data.\n",
    "A smaller p-value means the observed data is less likely under the null hypothesis, making the null less plausible.\n",
    "Head-tilt Kissing Experiment:\n",
    "\n",
    "You requested a simulation to estimate the p-value assuming no head-tilt tendency. The result (p ≈ 0.0) indicates strong evidence against the null hypothesis, suggesting there is a tilt tendency during kissing."
   ]
  },
  {
   "cell_type": "markdown",
   "id": "9563c460",
   "metadata": {},
   "source": [
    "6.A smaller p-value doesn't definitively prove the null hypothesis is false. It just shows how unlikely the result is if the null were true. The same applies to Fido—neither innocence nor guilt can be proven with a p-value. A low p-value suggests stronger evidence against innocence, but no p-value can ever fully prove guilt or innocence; it only indicates evidence strength."
   ]
  },
  {
   "cell_type": "markdown",
   "id": "2cebf973",
   "metadata": {},
   "source": [
    "7.The code needs to change the alternative hypothesis from “≠” (two-sided) to “>” or “<” (one-sided), which impacts the p-value calculation by focusing on one tail of the distribution. In a one-sided test, only deviations in one direction are considered, so the p-value is expected to be smaller compared to the two-sided test, as it only examines one tail of the distribution."
   ]
  },
  {
   "cell_type": "markdown",
   "id": "af856fef",
   "metadata": {},
   "source": [
    "8.\n",
    "Problem induction:\n",
    "Replicated Fisher’s Tea Experiment with 80 STA130 students. Each student was asked to identify whether tea or milk was poured first. Of these, 49 correctly identified the order. We will perform a hypothesis test to determine whether this result is due to chance or if students can detect the difference.\n",
    "Null Hypothesis (H0):\n",
    "Formal: The students are guessing randomly, with a 50% chance of being correct (p=0.5).\n",
    "Informal: The students are just guessing, and there’s no real ability to detect the difference between tea-first and milk-first.\n",
    "Alternative Hypothesis (H₁):\n",
    "Formal: The students are not guessing randomly and have some ability to identify the order (p>0.5).\n",
    "Informal: The students can tell the difference between tea-first and milk-first.\n"
   ]
  },
  {
   "cell_type": "code",
   "execution_count": 2,
   "id": "84892604",
   "metadata": {},
   "outputs": [
    {
     "name": "stdout",
     "output_type": "stream",
     "text": [
      "P-value: 0.028332213172560572\n"
     ]
    }
   ],
   "source": [
    "import scipy.stats as stats\n",
    "\n",
    "# Parameters\n",
    "n = 80  # Total number of students\n",
    "observed_correct = 49  # Number of students who correctly identified the order\n",
    "p_null = 0.5  # Null hypothesis probability (random guessing)\n",
    "\n",
    "# Perform the binomial test using the updated binomtest function\n",
    "binom_result = stats.binomtest(observed_correct, n=n, p=p_null, alternative='greater')\n",
    "\n",
    "# Extract the p-value\n",
    "p_value = binom_result.pvalue\n",
    "\n",
    "# Display the result\n",
    "print(f\"P-value: {p_value}\")\n"
   ]
  },
  {
   "cell_type": "markdown",
   "id": "37f6f761",
   "metadata": {},
   "source": [
    "Based on the p-value, if it’s less than 0.05, we reject H0, meaning students likely have some ability to detect the order.\n",
    "If the p-value is greater than 0.05, we fail to reject H0, meaning the result could be due to random guessing"
   ]
  }
 ],
 "metadata": {
  "kernelspec": {
   "display_name": "Python 3 (ipykernel)",
   "language": "python",
   "name": "python3"
  },
  "language_info": {
   "codemirror_mode": {
    "name": "ipython",
    "version": 3
   },
   "file_extension": ".py",
   "mimetype": "text/x-python",
   "name": "python",
   "nbconvert_exporter": "python",
   "pygments_lexer": "ipython3",
   "version": "3.11.6"
  }
 },
 "nbformat": 4,
 "nbformat_minor": 5
}
