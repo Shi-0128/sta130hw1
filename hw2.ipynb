{
 "cells": [
  {
   "cell_type": "markdown",
   "id": "cdfa8fb3",
   "metadata": {},
   "source": [
    "1.\n",
    "https://chatgpt.com/share/66e9a6f0-35b4-8003-ad13-36fb9baf2657"
   ]
  },
  {
   "cell_type": "code",
   "execution_count": 1,
   "id": "20aa94a8",
   "metadata": {},
   "outputs": [],
   "source": [
    "import numpy as np\n",
    "\n",
    "def monty_hall_simulation(reps: int) -> float:\n",
    "    wins = 0\n",
    "    \n",
    "    for _ in range(reps):\n",
    "        # Step 1: Randomly place the car behind one of the doors (1, 2, or 3)\n",
    "        winning_door = np.random.choice([1, 2, 3])\n",
    "        \n",
    "        # Step 2: Player randomly chooses a door (always Door 1 for simplicity)\n",
    "        player_choice = 1\n",
    "        \n",
    "        # Step 3: Monty opens a door with a goat\n",
    "        available_doors = [door for door in [1, 2, 3] if door != player_choice and door != winning_door]\n",
    "        monty_opens = np.random.choice(available_doors)\n",
    "        \n",
    "        # Step 4: Player switches to the remaining door\n",
    "        remaining_door = [door for door in [1, 2, 3] if door != player_choice and door != monty_opens][0]\n",
    "        \n",
    "        # Step 5: Check if switching results in a win\n",
    "        if remaining_door == winning_door:\n",
    "            wins += 1\n",
    "\n",
    "    # Return the win percentage\n",
    "    return (wins / reps) * 100\n"
   ]
  },
  {
   "cell_type": "code",
   "execution_count": 2,
   "id": "7eec1bd1",
   "metadata": {},
   "outputs": [
    {
     "data": {
      "text/plain": [
       "66.9"
      ]
     },
     "execution_count": 2,
     "metadata": {},
     "output_type": "execute_result"
    }
   ],
   "source": [
    "monty_hall_simulation(10000)"
   ]
  },
  {
   "cell_type": "markdown",
   "id": "c86f2950",
   "metadata": {},
   "source": [
    "2. https://chatgpt.com/share/66e9a6f0-35b4-8003-ad13-36fb9baf2657"
   ]
  },
  {
   "cell_type": "code",
   "execution_count": 7,
   "id": "27b07345",
   "metadata": {},
   "outputs": [],
   "source": [
    "#3\n",
    "import numpy as np#import the numpy from libarary provide a function to random selection like np.random.chioce. for example:\n",
    "#import numpy as np\n",
    "#a = np.random.choice([2,3,44,55]) \n",
    "#print(a)\n",
    "#this will randomly print between \"2,3,44,55\"\n",
    "\n",
    "def monty_hall_simulation(reps: int) -> float:#This code defines a function, and let user to input a integer which the experiment will simulate that many of times\n",
    "    wins = 0#initialize the times that player wins, every time player wins, it will added by one.\n",
    "    \n",
    "    for _ in range(reps):# for loop that run the simulation \"reps\" many times\n",
    "        # Step 1: Randomly place the car behind one of the doors (1, 2, or 3)\n",
    "        winning_door = np.random.choice([1, 2, 3])#\"winning_door\" will store the result that np.random.chioce([1,2,3]) selected to hide the car\n",
    "        \n",
    "        # Step 2: Player randomly chooses a door (always Door 1 for simplicity)\n",
    "        player_choice = 1#every time the simulation runs, player will always choose the first door \n",
    "        \n",
    "        # Step 3: Monty opens a door with a goat\n",
    "        available_doors = [door for door in [1, 2, 3] if door != player_choice and door != winning_door]#availlable_doors is the door Monty will open,\n",
    "        #The door he opens can not be the door that player chose, also cant be the door that hide the door, the door hide the car and the door the player\n",
    "        #chose can be the same door. the code \"door for door in[1,2,3] if door != 1\" will output [2,3]\n",
    "        monty_opens = np.random.choice(available_doors)#monty_opens random choose an available_doors\n",
    "        \n",
    "        # Step 4: Player switches to the remaining door\n",
    "        remaining_door = [door for door in [1, 2, 3] if door != player_choice and door != monty_opens][0]#ramaining door is the door that is not the door\n",
    "        #player chose, and also not the door that Monty opened.\n",
    "        \n",
    "        # Step 5: Check if switching results in a win\n",
    "        if remaining_door == winning_door:#check if the door player switched to is the door hide the car\n",
    "            wins += 1#if it is win number +1\n",
    "\n",
    "    # Return the win percentage\n",
    "    return (wins / reps) * 100#compute the chance that player get the car using the number of wins divided by the number the simulation runs.\n"
   ]
  },
  {
   "cell_type": "code",
   "execution_count": 9,
   "id": "ba24d6c4",
   "metadata": {},
   "outputs": [
    {
     "data": {
      "text/plain": [
       "67.65"
      ]
     },
     "execution_count": 9,
     "metadata": {},
     "output_type": "execute_result"
    }
   ],
   "source": [
    "monty_hall_simulation(10000)"
   ]
  },
  {
   "cell_type": "markdown",
   "id": "62856f6a",
   "metadata": {},
   "source": [
    "4.\n",
    "Summary:\n",
    "Purpose: The code sets up a basic Markovian ChatBot that can generate text based on a given story or text data.\n",
    "Data Structures:\n",
    "word_used: A dictionary that counts the occurrences of each word.\n",
    "next_word: A dictionary where each word maps to another dictionary that counts the words that follow it.\n",
    "Process:\n",
    "Iterate through the list of words (excluding the last one).\n",
    "For each word, update its count in word_used.\n",
    "Update the next_word dictionary to record the frequency of words that follow each word.\n",
    "Functionality: The chatbot will use this data to generate text by starting with a random word and choosing subsequent words based on their recorded frequencies.\n",
    "https://chatgpt.com/share/66e9cd4b-7e0c-8003-916f-3472c3013aba"
   ]
  },
  {
   "cell_type": "markdown",
   "id": "1fa27ede",
   "metadata": {},
   "source": [
    "5.summary:\n",
    "Markovian ChatBot Code Explanation:\n",
    "\n",
    "The provided code sets up a Markovian ChatBot by counting word frequencies and transitions between words in a text.\n",
    "The chatbot can generate text by selecting words based on past word pairings (bigrams).\n",
    "Markovian ChatBot Extensions:\n",
    "\n",
    "Extension #1: Introduces a second-order Markov model where the prediction of the next word is based on the previous two-word sequence (bigram).\n",
    "Extension #2: Adds character-based context using a dataset (avatar), allowing the chatbot to track and model word sequences for different characters.\n",
    "dict() Explanation:\n",
    "\n",
    "dict() creates a new empty dictionary, used to store data in key-value pairs.\n",
    "my_dict = {} Explanation:\n",
    "\n",
    "This shorthand syntax initializes an empty dictionary, equivalent to dict().\n",
    "\n",
    "The provided code implements and extends a Markovian Chatbot that predicts the next word based on previous words using two approaches: unigram (single word) and bigram (word pair) models.\n",
    "\n",
    "Part 1: Simple Markovian Chatbot (Unigram Model)\n",
    "Goal: Predict the next word based on the current word.\n",
    "Logic:\n",
    "word_used tracks how often each word occurs.\n",
    "next_word stores how often each word is followed by another word.\n",
    "The loop iterates through the word list (excluding the last word) to update these dictionaries and build a simple transition model for word prediction.\n",
    "Part 2: Advanced Markovian Chatbot (Bigram Model)\n",
    "Goal: Predict the next word based on the previous two words (bigram).\n",
    "Logic:\n",
    "The chatbot now considers both a pair of previous words (bigram) and the character speaking (from a dataset) to predict the next word.\n",
    "Nested dictionaries word_used2C and next_word2C store word pairs and their transitions, tracked separately for each character.\n",
    "This approach improves context awareness, allowing more specific and coherent sentence generation.\n",
    "Key Improvements with Bigram:\n",
    "Better Context: By considering two words, the chatbot generates more accurate and contextually relevant predictions.\n",
    "Character-Specific Predictions: The model tailors predictions to individual characters, adding personality to the chatbot's responses.\n",
    "Overall Impact:\n",
    "The code evolves from a simple model that predicts based on one word to a more sophisticated system that uses bigrams, improving sentence coherence and prediction accuracy.\n",
    "https://chatgpt.com/share/66ea58ad-d1a4-8003-af1b-50b1ecc0a120\n",
    "https://chatgpt.com/share/66e9cd4b-7e0c-8003-916f-3472c3013aba"
   ]
  },
  {
   "cell_type": "markdown",
   "id": "f0d75cd5",
   "metadata": {},
   "source": [
    "6-1\n",
    "For Monte Hall problem, I asked chatgot for explaination, it it quickly provided a clear explaination on both the game it self and the code, I used to think the user choose stand or switch have the same probability to win the hiden prize, chatgpt helped me understand the code very well, but for the Markovian chatbot code, chatgpt can't make some clear explaination, maybe because Markovian chatbot code is more complicated than Monte Hall problem, and understanding the code for me through chatbot is more challenging, so I prompt chatgpt to make some more specific code explaination.\n",
    "6-2\n",
    "Interacting with chatbot was sometimes frustrating, but most of the time very effective, sometimes chatbot just provide a very long and unreadable content that need to take more time to understand.\n",
    "6-3\n",
    "Base on my interaction with chatbot, I think asking chatgpt for solutions is very helpful to understand the how the code work, but sometimes you need to provide extra prompts to let chatbot to provide a readable and specific explaination of the code.\n"
   ]
  },
  {
   "cell_type": "markdown",
   "id": "8ff289e2",
   "metadata": {},
   "source": [
    "7.\n",
    "Through out my experience interacting with chatbot, I think it is pretty effective, for example, in one session I asked chatgpt to explain the code of Markovian chatbot, chatbot quickly summarized the key points, and the code I asked it how it work previously, it also help me break down how chatbot uses bigrams to predict the next word when I was confused about how the word pairs are being tracked. And in another chatgpt session, I asked the code \"for, i word in enumerate(words[:-1]): \"and chatgpt helped me to understand that the loop goes through all the words in the list experct the last one, it pairs the word with the word that next to this word and the reason to ignore the last word is because there are no words behind the last word.\n",
    "And overall I think AI-driven assistance tools in the context of learning coding, statistics, and data science is very helpful."
   ]
  },
  {
   "cell_type": "markdown",
   "id": "a22e78b7",
   "metadata": {},
   "source": [
    "9.\n",
    "Somewhat"
   ]
  }
 ],
 "metadata": {
  "kernelspec": {
   "display_name": "Python 3 (ipykernel)",
   "language": "python",
   "name": "python3"
  },
  "language_info": {
   "codemirror_mode": {
    "name": "ipython",
    "version": 3
   },
   "file_extension": ".py",
   "mimetype": "text/x-python",
   "name": "python",
   "nbconvert_exporter": "python",
   "pygments_lexer": "ipython3",
   "version": "3.11.6"
  }
 },
 "nbformat": 4,
 "nbformat_minor": 5
}
