{
 "cells": [
  {
   "cell_type": "markdown",
   "id": "bb231664",
   "metadata": {},
   "source": [
    "1.\n",
    "Standard Deviation(SD) describes the spread of individual data points in the dataset, and Standard Error of the Mean(SEM) describes how procisely the sample mean estimates the population mean.\n",
    "Standard Deviation stays the same regardless of the sample size but the Standard Error of the Mean decreases when the sample size increases."
   ]
  },
  {
   "cell_type": "markdown",
   "id": "8964cec5",
   "metadata": {},
   "source": [
    "2.\n",
    "The formula of confidence interval: CI= average of x±(1.96×SEM)\n",
    "1.96 is the z-score\n",
    "confidence interval to z-score\n",
    "90% -> 1.635\n",
    "95% -> 1.96\n",
    "99% -> 2.575\n",
    "99.5% -> 2.81\n",
    "99.9 -> 3.29"
   ]
  },
  {
   "cell_type": "markdown",
   "id": "3a69e703",
   "metadata": {},
   "source": [
    "3.\n",
    "To create a 95% bootstrapped confidence interval, we can use the distribution of bootstrapped means and find the 2.5th and 97.5th percentiles of this distribution. this method can be used to create 95% bootstrapped confidence interval without using Standard Error of the Mean."
   ]
  },
  {
   "cell_type": "markdown",
   "id": "a867c4fc",
   "metadata": {},
   "source": [
    "4."
   ]
  },
  {
   "cell_type": "code",
   "execution_count": 1,
   "id": "04bcfcbd",
   "metadata": {},
   "outputs": [
    {
     "name": "stdout",
     "output_type": "stream",
     "text": [
      "95% Bootstrapped Confidence Interval for the Mean: [-0.13606981761800294, 0.25965339116841113]\n"
     ]
    }
   ],
   "source": [
    "import numpy as np\n",
    "import pandas as pd\n",
    "\n",
    "\n",
    "np.random.seed(0)#to get the most random numbers for each run\n",
    "data = np.random.randn(100) #generates 100 data points from a standard normal distribution\n",
    "mean = 0, standard deviation = 1\n",
    "\n",
    "\n",
    "n_bootstrap = 10000#the number of bootstrap samples to generate\n",
    "\n",
    "\n",
    "bootstrap_means = np.array([np.mean(np.random.choice(data, size=len(data), replace=True)) for _ in range(n_bootstrap)])\n",
    "#np.random.choice(data, size=len(data), replace=True will create a random sample with\n",
    "#replacement means that the same datapoint can be chosen more than one time from the\n",
    "#original 'data' of the same size as the dataset which is 100\n",
    "#'np.mean(..)' will computes the mean of the random sample\n",
    "#'for _ in range(n_bootstrap)])'this code will let this process 10000 times.\n",
    "\n",
    "bootstrap_means_sorted = np.sort(bootstrap_means)\n",
    "#sort the bootstrap means in ascending order, which can make it easier to \n",
    "#extract percentiles for the confidence interval.\n",
    "\n",
    "\n",
    "lower_bound = np.percentile(bootstrap_means_sorted, 2.5)\n",
    "upper_bound = np.percentile(bootstrap_means_sorted, 97.5)\n",
    "#'np.percentile(..., 2.5)' Finds the value below which 2.5% of the sorted bootstrapped means fall. This is the lower bound of the 95% confidence interval.\n",
    "#'np.percentile(..., 97.5)'Finds the value below which 97.5% of the sorted bootstrapped means fall. This is the upper bound.\n",
    "\n",
    "print(f\"95% Bootstrapped Confidence Interval for the Mean: [{lower_bound}, {upper_bound}]\")\n",
    "# prints the 95% confidence interval for the bootstrapped means"
   ]
  },
  {
   "cell_type": "code",
   "execution_count": 2,
   "id": "8b86bdac",
   "metadata": {},
   "outputs": [
    {
     "name": "stdout",
     "output_type": "stream",
     "text": [
      "95% Bootstrapped Confidence Interval for the Median: [-0.1925415497890759, 0.31306770165090136]\n"
     ]
    }
   ],
   "source": [
    "\n",
    "bootstrap_medians = np.array([np.median(np.random.choice(data, size=len(data), replace=True)) for _ in range(n_bootstrap)])\n",
    "#mp.median computes the meadian for each bootstrapped sample\n",
    "\n",
    "bootstrap_medians_sorted = np.sort(bootstrap_medians)\n",
    "#sort the meadians in acsending order\n",
    "\n",
    "lower_bound = np.percentile(bootstrap_medians_sorted, 2.5)\n",
    "upper_bound = np.percentile(bootstrap_medians_sorted, 97.5)\n",
    "\n",
    "print(f\"95% Bootstrapped Confidence Interval for the Median: [{lower_bound}, {upper_bound}]\")\n"
   ]
  },
  {
   "cell_type": "markdown",
   "id": "a6393807",
   "metadata": {},
   "source": [
    "chatlog link for question 1-4:https://chatgpt.com/share/66fad59e-6b50-8003-b08f-5c8593ab817f\n",
    "summary:\n",
    "Difference between Standard Error of the Mean (SEM) and Standard Deviation (SD):\n",
    "\n",
    "You asked about the difference between the standard error of the mean and the standard deviation of the original data.\n",
    "I explained that the SD measures the spread of individual data points around the mean, while the SEM reflects how precisely the sample mean estimates the population mean. The SEM decreases as the sample size increases and is calculated by dividing the SD by the square root of the sample size.\n",
    "Creating a 95% Confidence Interval Using SEM:\n",
    "\n",
    "You then asked how to create a 95% confidence interval using the SEM.\n",
    "I provided a step-by-step explanation:\n",
    "Calculate the sample mean and SEM.\n",
    "Use the z-score for 95% confidence (1.96).\n",
    "Multiply the SEM by 1.96 and add/subtract this value from the sample mean to get the confidence interval bounds.\n",
    "I also provided an example to show how the calculation works.\n",
    "Bootstrapped Confidence Interval for the Population Mean:\n",
    "\n",
    "You asked how to create a 95% bootstrapped confidence interval for the population mean without using standard deviation.\n",
    "I explained the process of bootstrapping, which involves:\n",
    "Generating many resamples of the original data with replacement.\n",
    "Calculating the mean for each resample.\n",
    "Sorting the resampled means and finding the 2.5th and 97.5th percentiles to form the confidence interval bounds.\n",
    "Code for Bootstrapped Confidence Interval:\n",
    "\n",
    "You requested code to compute a 95% bootstrapped confidence interval for the population mean and an explanation for how it works.\n",
    "I provided Python code that generates 10,000 bootstrap samples, calculates their means, sorts them, and uses percentiles to compute the confidence interval.\n",
    "I explained every line of the code, including how bootstrap resampling works, how to compute means for each sample, and how to extract the confidence interval from the sorted means.\n",
    "Adapting the Code for the Median:\n",
    "\n",
    "You then asked how to adapt the code for calculating the confidence interval for the median.\n",
    "I explained that the only change required is replacing np.mean with np.median, and the rest of the process (resampling, sorting, and percentile calculation) remains the same."
   ]
  },
  {
   "cell_type": "markdown",
   "id": "36818b0a",
   "metadata": {},
   "source": [
    "5.\n",
    "We need to distinguish between the role of the popualation parameter and the sample sample statistic because a parameter is a measure that describes the whole population, and a statistic is a measure that describe the chosen sample in population. For example parameter is a true median or mean of a population, and statistic is mean or median of a sample which is used to predict parameter."
   ]
  },
  {
   "cell_type": "markdown",
   "id": "4a7533b7",
   "metadata": {},
   "source": [
    "6.\n",
    "1)Bootstrapping is a method that take random samples from a population, and calculate the statistic and then create a distribution to predict the parameter.\n",
    "2)The main purposes of Bootstrapping is to understand the ditribution of the statistic, like mean and median in a dataset, we can do this without knowing the exact distribution of the population, and it can allow us to create a confidnece interval around the samples.\n",
    "3)We can use bootstrapping to create new samples from data and calculate the average of each one. From these averages, we can set a confidence interval. If the confidence interval includes the guessed average, it means that the guess is plausible."
   ]
  },
  {
   "cell_type": "markdown",
   "id": "9aabe1b6",
   "metadata": {},
   "source": [
    "7.\n",
    "1)when a confidence interval overlaps zero, this means that there is a possible that the drug has not effect, this means that we don't have enough evidence to prove the drug have effect, so  \"fail to reject the null hypothesis\" .\n",
    "2)If we want to reject the null hypothesis, we need to make confidence interval to exclude zero, this will allow us have enough evidence to show that the drug have a effect, and allow us \"to reject the null hypothesis\"."
   ]
  },
  {
   "cell_type": "markdown",
   "id": "81b91f42",
   "metadata": {},
   "source": [
    "8."
   ]
  },
  {
   "cell_type": "code",
   "execution_count": 1,
   "id": "25d0dbff",
   "metadata": {},
   "outputs": [
    {
     "name": "stdout",
     "output_type": "stream",
     "text": [
      "   PatientID  Age Gender  InitialHealthScore  FinalHealthScore  HealthChange\n",
      "0          1   45      M                  84                86             2\n",
      "1          2   34      F                  78                86             8\n",
      "2          3   29      M                  83                80            -3\n",
      "3          4   52      F                  81                86             5\n",
      "4          5   37      M                  81                84             3\n",
      "5          6   41      F                  80                86             6\n",
      "6          7   33      M                  79                86             7\n",
      "7          8   48      F                  85                82            -3\n",
      "8          9   26      M                  76                83             7\n",
      "9         10   39      F                  83                84             1\n"
     ]
    }
   ],
   "source": [
    "import numpy as np\n",
    "import pandas as pd\n",
    "import matplotlib.pyplot as plt\n",
    "\n",
    "# Data (you can also read this from a CSV file)\n",
    "data = {\n",
    "    'PatientID': [1, 2, 3, 4, 5, 6, 7, 8, 9, 10],\n",
    "    'Age': [45, 34, 29, 52, 37, 41, 33, 48, 26, 39],\n",
    "    'Gender': ['M', 'F', 'M', 'F', 'M', 'F', 'M', 'F', 'M', 'F'],\n",
    "    'InitialHealthScore': [84, 78, 83, 81, 81, 80, 79, 85, 76, 83],\n",
    "    'FinalHealthScore': [86, 86, 80, 86, 84, 86, 86, 82, 83, 84]\n",
    "}\n",
    "\n",
    "df = pd.DataFrame(data)\n",
    "\n",
    "# Calculate the difference between Final and Initial Health Scores\n",
    "df['HealthChange'] = df['FinalHealthScore'] - df['InitialHealthScore']\n",
    "\n",
    "# Print out the DataFrame\n",
    "print(df)\n"
   ]
  },
  {
   "cell_type": "code",
   "execution_count": 2,
   "id": "5e00d266",
   "metadata": {},
   "outputs": [
    {
     "data": {
      "image/png": "[encoded data removed]",
      "text/plain": [
       "<Figure size 1000x600 with 1 Axes>"
      ]
     },
     "metadata": {},
     "output_type": "display_data"
    },
    {
     "data": {
      "image/png": "[encoded data removed]",
      "text/plain": [
       "<Figure size 600x600 with 1 Axes>"
      ]
     },
     "metadata": {},
     "output_type": "display_data"
    }
   ],
   "source": [
    "# Bar plot for initial and final health scores\n",
    "plt.figure(figsize=(10,6))\n",
    "plt.bar(df['PatientID'], df['InitialHealthScore'], width=0.4, label='Initial Health Score', align='center')\n",
    "plt.bar(df['PatientID'] + 0.4, df['FinalHealthScore'], width=0.4, label='Final Health Score', align='center')\n",
    "\n",
    "plt.xlabel('Patient ID')\n",
    "plt.ylabel('Health Score')\n",
    "plt.title('Initial vs Final Health Scores')\n",
    "plt.legend()\n",
    "plt.show()\n",
    "\n",
    "# Boxplot to show distribution of health scores\n",
    "plt.figure(figsize=(6,6))\n",
    "plt.boxplot([df['InitialHealthScore'], df['FinalHealthScore']], labels=['Initial', 'Final'])\n",
    "plt.ylabel('Health Score')\n",
    "plt.title('Boxplot of Initial and Final Health Scores')\n",
    "plt.show()\n"
   ]
  },
  {
   "cell_type": "code",
   "execution_count": 3,
   "id": "c2e465eb",
   "metadata": {},
   "outputs": [
    {
     "name": "stdout",
     "output_type": "stream",
     "text": [
      "95% Bootstrapped Confidence Interval for the Mean Health Change: [0.9, 5.5]\n",
      "Observed Mean Health Change: 3.3\n"
     ]
    }
   ],
   "source": [
    "# Number of bootstrap samples\n",
    "n_bootstrap = 10000\n",
    "\n",
    "# Bootstrapping to calculate the mean of the health score differences\n",
    "health_changes = df['HealthChange'].values\n",
    "\n",
    "# Generate bootstrap samples and compute the mean difference for each sample\n",
    "bootstrap_means = np.array([np.mean(np.random.choice(health_changes, size=len(health_changes), replace=True)) for _ in range(n_bootstrap)])\n",
    "\n",
    "# Calculate the 95% confidence interval for the mean health score difference\n",
    "lower_bound = np.percentile(bootstrap_means, 2.5)\n",
    "upper_bound = np.percentile(bootstrap_means, 97.5)\n",
    "\n",
    "print(f\"95% Bootstrapped Confidence Interval for the Mean Health Change: [{lower_bound}, {upper_bound}]\")\n",
    "\n",
    "# Calculate the observed mean health change\n",
    "observed_mean_change = np.mean(health_changes)\n",
    "print(f\"Observed Mean Health Change: {observed_mean_change}\")\n"
   ]
  },
  {
   "cell_type": "code",
   "execution_count": 4,
   "id": "aafe985f",
   "metadata": {},
   "outputs": [
    {
     "name": "stdout",
     "output_type": "stream",
     "text": [
      "Reject the null hypothesis: The vaccine has a statistically significant effect.\n"
     ]
    }
   ],
   "source": [
    "# Check if the confidence interval includes 0\n",
    "if lower_bound <= 0 <= upper_bound:\n",
    "    print(\"Fail to reject the null hypothesis: The vaccine may not have a significant effect.\")\n",
    "else:\n",
    "    print(\"Reject the null hypothesis: The vaccine has a statistically significant effect.\")\n"
   ]
  },
  {
   "cell_type": "markdown",
   "id": "42588bc3",
   "metadata": {},
   "source": [
    "I first aksed chatgpt to create a visualizetion of the contrast of health score for each patient before and after the vaccine. Then I asked chatgpt to bootstrapping to run the simulation 10000 times to create mean of the difference between before vacination and fater vaccination. This give a statistic to analyze uncertain of the effect, then I asked chatgpt to write the 95% confidence interval for the mean difference of the health score, if the interval doesn't include 0, then we can say it has effect.\n",
    "After I ran the code, it shows that the confidence interval for the mean health change doesn't include zero so we can reject the null hypothesis. means there is effect of the vaccine."
   ]
  },
  {
   "cell_type": "markdown",
   "id": "1e509f04",
   "metadata": {},
   "source": [
    "chatlog link for question 8:https://chatgpt.com/share/66fc2ba6-7704-8001-b326-676e1abd0edb\n",
    "summary for 5-8: Hypothesis Testing and Null Hypothesis:\n",
    "\n",
    "Understand the null hypothesis (H₀), which typically states that there is no effect or difference (e.g., the vaccine has no effect).\n",
    "Learn how to fail to reject the null hypothesis when the confidence interval includes zero, meaning there's insufficient evidence to suggest a significant effect.\n",
    "Confidence Intervals:\n",
    "\n",
    "A confidence interval provides a range of values around the sample estimate (like the mean) that likely contains the true population parameter.\n",
    "Recognizing how the width of the confidence interval relates to sample size and variability helps interpret results.\n",
    "Bootstrapping:\n",
    "\n",
    "Bootstrapping is a resampling technique used to estimate the distribution of a statistic (like the mean or median) by repeatedly sampling from the data.\n",
    "It helps in assessing the variability and constructing confidence intervals without making strong assumptions about the population distribution.\n",
    "Statistical Significance:\n",
    "\n",
    "Learn how to interpret statistical significance in the context of hypothesis testing, including how sample means and confidence intervals inform decisions about rejecting or failing to reject the null hypothesis.\n",
    "Data Visualization:\n",
    "\n",
    "Visualization methods (like histograms or box plots) help in understanding the distribution of data and comparing groups (e.g., pre- and post-vaccine scores).\n",
    "Effective visualizations can provide insights into patterns and variations within the data, supporting quantitative findings.\n",
    "Quantitative Analysis:\n",
    "\n",
    "The analysis involves calculating summary statistics (mean, median, standard deviation) and performing bootstrapping to derive confidence intervals for the mean or median health scores.\n",
    "Be prepared to explain the methodology clearly, emphasizing why you chose certain statistical techniques and what they reveal about the data."
   ]
  },
  {
   "cell_type": "markdown",
   "id": "db48dc20",
   "metadata": {},
   "source": [
    "9."
   ]
  }
 ],
 "metadata": {
  "kernelspec": {
   "display_name": "Python 3 (ipykernel)",
   "language": "python",
   "name": "python3"
  },
  "language_info": {
   "codemirror_mode": {
    "name": "ipython",
    "version": 3
   },
   "file_extension": ".py",
   "mimetype": "text/x-python",
   "name": "python",
   "nbconvert_exporter": "python",
   "pygments_lexer": "ipython3",
   "version": "3.11.6"
  }
 },
 "nbformat": 4,
 "nbformat_minor": 5
}
